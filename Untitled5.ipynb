{
 "cells": [
  {
   "cell_type": "code",
   "execution_count": 2,
   "id": "b9fec48a",
   "metadata": {},
   "outputs": [
    {
     "name": "stdout",
     "output_type": "stream",
     "text": [
      "Hi\n"
     ]
    }
   ],
   "source": [
    "class UserData:\n",
    "    def show(self):\n",
    "        print('Hi')\n",
    "\n",
    "def check():\n",
    "    x = UserData()\n",
    "    x.show()\n",
    "    \n",
    "check()"
   ]
  },
  {
   "cell_type": "code",
   "execution_count": 3,
   "id": "d62d097e",
   "metadata": {},
   "outputs": [],
   "source": [
    "class UserData:\n",
    "    age = 0\n",
    "    name = None\n",
    "    def __init__(self,name,age):\n",
    "        self.name = name\n",
    "        self.age = age\n",
    "        \n",
    "    def user(self):\n",
    "        print(\"User name is: {} and has {} years old\".format(self.name,self.age))"
   ]
  },
  {
   "cell_type": "code",
   "execution_count": 4,
   "id": "bc8942be",
   "metadata": {},
   "outputs": [],
   "source": [
    "user_1 = UserData(\"Sara\",40)\n",
    "user_2 = UserData(\"David\",35)\n",
    "user_3 = UserData(\"John\",50)\n",
    "user_4 = UserData(\"Kate\",30)\n",
    "user_5 = UserData(\"Mary\",20)"
   ]
  },
  {
   "cell_type": "code",
   "execution_count": 5,
   "id": "95d24a2a",
   "metadata": {},
   "outputs": [
    {
     "data": {
      "text/plain": [
       "__main__.UserData"
      ]
     },
     "execution_count": 5,
     "metadata": {},
     "output_type": "execute_result"
    }
   ],
   "source": [
    "type(user_1)"
   ]
  },
  {
   "cell_type": "code",
   "execution_count": 6,
   "id": "7b683d2f",
   "metadata": {},
   "outputs": [
    {
     "data": {
      "text/plain": [
       "35"
      ]
     },
     "execution_count": 6,
     "metadata": {},
     "output_type": "execute_result"
    }
   ],
   "source": [
    "user_2.age"
   ]
  },
  {
   "cell_type": "code",
   "execution_count": 7,
   "id": "8609a1f9",
   "metadata": {},
   "outputs": [
    {
     "data": {
      "text/plain": [
       "'John'"
      ]
     },
     "execution_count": 7,
     "metadata": {},
     "output_type": "execute_result"
    }
   ],
   "source": [
    "user_3.name"
   ]
  },
  {
   "cell_type": "code",
   "execution_count": 11,
   "id": "a99438ce",
   "metadata": {},
   "outputs": [],
   "source": [
    "def avg_age():\n",
    "    return(user_1.age+user_2.age+user_3.age+user_4.age+user_5.age)/5"
   ]
  },
  {
   "cell_type": "code",
   "execution_count": 12,
   "id": "9cceebf3",
   "metadata": {},
   "outputs": [
    {
     "data": {
      "text/plain": [
       "35.0"
      ]
     },
     "execution_count": 12,
     "metadata": {},
     "output_type": "execute_result"
    }
   ],
   "source": [
    "avg_age()"
   ]
  },
  {
   "cell_type": "code",
   "execution_count": 13,
   "id": "c02e92a4",
   "metadata": {},
   "outputs": [
    {
     "name": "stdout",
     "output_type": "stream",
     "text": [
      "User name is: Sara and has 40 years old\n"
     ]
    }
   ],
   "source": [
    "user_1.user()"
   ]
  },
  {
   "cell_type": "code",
   "execution_count": 14,
   "id": "2502fc57",
   "metadata": {},
   "outputs": [],
   "source": [
    "class Rectangle():\n",
    "    def __init__(self,length,width):\n",
    "        self.length = length\n",
    "        self.width = width\n",
    "        \n",
    "    def rect_area(self):\n",
    "        return(self.length*self.width)\n",
    "\n",
    "rect_1 = Rectangle(50,30)\n",
    "rect_2 = Rectangle(140,60)\n",
    "rect_3 = Rectangle(120,70)\n",
    "rect_4 = Rectangle(100,80)"
   ]
  },
  {
   "cell_type": "code",
   "execution_count": 15,
   "id": "96c36690",
   "metadata": {},
   "outputs": [
    {
     "data": {
      "text/plain": [
       "50"
      ]
     },
     "execution_count": 15,
     "metadata": {},
     "output_type": "execute_result"
    }
   ],
   "source": [
    "rect_1.length"
   ]
  },
  {
   "cell_type": "code",
   "execution_count": 16,
   "id": "813d9d00",
   "metadata": {},
   "outputs": [
    {
     "data": {
      "text/plain": [
       "60"
      ]
     },
     "execution_count": 16,
     "metadata": {},
     "output_type": "execute_result"
    }
   ],
   "source": [
    "rect_2.width"
   ]
  },
  {
   "cell_type": "code",
   "execution_count": 18,
   "id": "d18c011d",
   "metadata": {},
   "outputs": [
    {
     "data": {
      "text/plain": [
       "8400"
      ]
     },
     "execution_count": 18,
     "metadata": {},
     "output_type": "execute_result"
    }
   ],
   "source": [
    "rect_3.rect_area()"
   ]
  },
  {
   "cell_type": "code",
   "execution_count": 19,
   "id": "0d07a7e4",
   "metadata": {},
   "outputs": [
    {
     "data": {
      "text/plain": [
       "__main__.Rectangle"
      ]
     },
     "execution_count": 19,
     "metadata": {},
     "output_type": "execute_result"
    }
   ],
   "source": [
    "type(rect_4)"
   ]
  },
  {
   "cell_type": "code",
   "execution_count": 20,
   "id": "b7bbb127",
   "metadata": {},
   "outputs": [
    {
     "name": "stdout",
     "output_type": "stream",
     "text": [
      "6575.0\n"
     ]
    }
   ],
   "source": [
    "print((rect_1.rect_area()+rect_2.rect_area()+rect_3.rect_area()+rect_4.rect_area())/4)"
   ]
  },
  {
   "cell_type": "code",
   "execution_count": null,
   "id": "020f1e8f",
   "metadata": {},
   "outputs": [],
   "source": []
  }
 ],
 "metadata": {
  "kernelspec": {
   "display_name": "Python 3",
   "language": "python",
   "name": "python3"
  },
  "language_info": {
   "codemirror_mode": {
    "name": "ipython",
    "version": 3
   },
   "file_extension": ".py",
   "mimetype": "text/x-python",
   "name": "python",
   "nbconvert_exporter": "python",
   "pygments_lexer": "ipython3",
   "version": "3.8.8"
  }
 },
 "nbformat": 4,
 "nbformat_minor": 5
}
