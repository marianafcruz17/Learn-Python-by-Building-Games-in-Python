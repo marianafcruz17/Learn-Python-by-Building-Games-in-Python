{
 "cells": [
  {
   "cell_type": "code",
   "execution_count": 1,
   "id": "1e1f0f63",
   "metadata": {},
   "outputs": [],
   "source": [
    "class Skills():\n",
    "    def __init__(self):\n",
    "        pass\n",
    "    def msg():\n",
    "        print(\"So you have the skills!\")"
   ]
  },
  {
   "cell_type": "code",
   "execution_count": 5,
   "id": "cb1131a8",
   "metadata": {},
   "outputs": [],
   "source": [
    "class HR():\n",
    "    def __init__(self):\n",
    "        super(HR,self).__init__()\n",
    "    def msg(self):\n",
    "        print(\"Good luck another time, you don't have the skills needed!\")"
   ]
  },
  {
   "cell_type": "code",
   "execution_count": 6,
   "id": "9c59138f",
   "metadata": {},
   "outputs": [],
   "source": [
    "communication = HR()"
   ]
  },
  {
   "cell_type": "code",
   "execution_count": 7,
   "id": "4fb11e56",
   "metadata": {},
   "outputs": [
    {
     "name": "stdout",
     "output_type": "stream",
     "text": [
      "Good luck another time, you don't have the skills needed!\n"
     ]
    }
   ],
   "source": [
    "communication.msg()"
   ]
  }
 ],
 "metadata": {
  "kernelspec": {
   "display_name": "Python 3",
   "language": "python",
   "name": "python3"
  },
  "language_info": {
   "codemirror_mode": {
    "name": "ipython",
    "version": 3
   },
   "file_extension": ".py",
   "mimetype": "text/x-python",
   "name": "python",
   "nbconvert_exporter": "python",
   "pygments_lexer": "ipython3",
   "version": "3.8.8"
  }
 },
 "nbformat": 4,
 "nbformat_minor": 5
}
