{
 "cells": [
  {
   "cell_type": "code",
   "execution_count": 9,
   "id": "62a35aa7",
   "metadata": {},
   "outputs": [],
   "source": [
    "class DataUser():\n",
    "    def __init__(self,name,age):\n",
    "        self.name = name\n",
    "        self.age = age\n",
    "        \n",
    "    def __str__(self):\n",
    "        return 'User name is {} and has {} years old'.format(self.name,self.age)\n",
    "    def __len__(self):\n",
    "        return self.age\n",
    "\n",
    "user_1 = DataUser('Mostafa',16)\n",
    "user_2 = DataUser('Tames',35)"
   ]
  },
  {
   "cell_type": "code",
   "execution_count": 6,
   "id": "4b0eaf2a",
   "metadata": {},
   "outputs": [
    {
     "name": "stdout",
     "output_type": "stream",
     "text": [
      "User name is Mostafa and has 16 years old\n"
     ]
    }
   ],
   "source": [
    "print(user_1)"
   ]
  },
  {
   "cell_type": "code",
   "execution_count": 10,
   "id": "c7993fb1",
   "metadata": {},
   "outputs": [
    {
     "data": {
      "text/plain": [
       "16"
      ]
     },
     "execution_count": 10,
     "metadata": {},
     "output_type": "execute_result"
    }
   ],
   "source": [
    "len(user_1)"
   ]
  },
  {
   "cell_type": "code",
   "execution_count": 11,
   "id": "66b76f16",
   "metadata": {},
   "outputs": [
    {
     "name": "stdout",
     "output_type": "stream",
     "text": [
      "User name is Tames and has 35 years old\n"
     ]
    }
   ],
   "source": [
    "print(user_2)"
   ]
  },
  {
   "cell_type": "code",
   "execution_count": 12,
   "id": "ee359727",
   "metadata": {},
   "outputs": [
    {
     "data": {
      "text/plain": [
       "35"
      ]
     },
     "execution_count": 12,
     "metadata": {},
     "output_type": "execute_result"
    }
   ],
   "source": [
    "len(user_2)"
   ]
  },
  {
   "cell_type": "code",
   "execution_count": null,
   "id": "8c5a62ca",
   "metadata": {},
   "outputs": [],
   "source": []
  }
 ],
 "metadata": {
  "kernelspec": {
   "display_name": "Python 3",
   "language": "python",
   "name": "python3"
  },
  "language_info": {
   "codemirror_mode": {
    "name": "ipython",
    "version": 3
   },
   "file_extension": ".py",
   "mimetype": "text/x-python",
   "name": "python",
   "nbconvert_exporter": "python",
   "pygments_lexer": "ipython3",
   "version": "3.8.8"
  }
 },
 "nbformat": 4,
 "nbformat_minor": 5
}
