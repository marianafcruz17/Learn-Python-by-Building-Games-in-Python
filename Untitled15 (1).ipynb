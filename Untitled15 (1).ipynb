{
 "cells": [
  {
   "cell_type": "code",
   "execution_count": null,
   "id": "d8256b4a",
   "metadata": {},
   "outputs": [],
   "source": [
    "#1. Import the wnated Python module\n",
    "import random\n",
    "\n",
    "#2. Pick and save the words to be guessed as a list in hangman_guessing.py file.\n",
    "#    Note: all the words to be guessed consist of six letters \n",
    "from hangman_guessing import guess_list\n",
    "\n",
    "#3. Use the imported Python module to pick a random word from the words you save\n",
    "guessing_word = random.choice(guess_list).lower()\n",
    "word_letters = len(guessing_word)\n",
    "\n",
    "#4. Keep the game running until the game is over\n",
    "game_over = False\n",
    "\n",
    "#5. Apply tries to the players to use to try to win\n",
    "tries = 6\n",
    "\n",
    "#6. Save game shapes in hangman_life.py file and import those shapes from this file\n",
    "from hangman_life import game_name\n",
    "print(game_name)\n",
    "\n",
    "#7. Test the code you writen until now using Python print function\n",
    "print(f'The word you guessed is {guessing_word}')"
   ]
  },
  {
   "cell_type": "code",
   "execution_count": 11,
   "id": "b65e8936",
   "metadata": {},
   "outputs": [
    {
     "ename": "NameError",
     "evalue": "name 'word_letters' is not defined",
     "output_type": "error",
     "traceback": [
      "\u001b[1;31m---------------------------------------------------------------------------\u001b[0m",
      "\u001b[1;31mNameError\u001b[0m                                 Traceback (most recent call last)",
      "\u001b[1;32m<ipython-input-11-058638ffacf5>\u001b[0m in \u001b[0;36m<module>\u001b[1;34m\u001b[0m\n\u001b[0;32m      3\u001b[0m \u001b[1;33m\u001b[0m\u001b[0m\n\u001b[0;32m      4\u001b[0m \u001b[1;31m#9. Interate over the players input\u001b[0m\u001b[1;33m\u001b[0m\u001b[1;33m\u001b[0m\u001b[1;33m\u001b[0m\u001b[0m\n\u001b[1;32m----> 5\u001b[1;33m \u001b[1;32mfor\u001b[0m \u001b[0m_\u001b[0m \u001b[1;32min\u001b[0m \u001b[0mrange\u001b[0m\u001b[1;33m(\u001b[0m\u001b[0mword_letters\u001b[0m\u001b[1;33m)\u001b[0m\u001b[1;33m:\u001b[0m\u001b[1;33m\u001b[0m\u001b[1;33m\u001b[0m\u001b[0m\n\u001b[0m\u001b[0;32m      6\u001b[0m     \u001b[0mresult\u001b[0m \u001b[1;33m+=\u001b[0m \u001b[0m_\u001b[0m\u001b[1;33m\u001b[0m\u001b[1;33m\u001b[0m\u001b[0m\n\u001b[0;32m      7\u001b[0m \u001b[1;33m\u001b[0m\u001b[0m\n",
      "\u001b[1;31mNameError\u001b[0m: name 'word_letters' is not defined"
     ]
    }
   ],
   "source": [
    "#8. Create a list contains six  underscore to store and save the right letter guessed by the players of the random word\n",
    "result = []\n",
    "\n",
    "#9. Interate over the players input\n",
    "for _ in range(word_letters):\n",
    "    result += '_'\n",
    "\n",
    "#10. Interate over the user input to keep the gam running until the game is over\n",
    "while not game_over:\n",
    "    user_guessing = input('Guess a letter: ')    \n",
    "    \n",
    "#11. Informe the players about the letter they have guessed after they do\n",
    "    if user_guessing in result:\n",
    "        print(f'The letter you have guassed is {user_guessing}')\n",
    "\n",
    "#12. Check if the guessed letters by the players is right or wrong\n",
    "    for position in range(word_letters):\n",
    "        letter = guessing_word[position]\n",
    "        if letter == user_guessing:\n",
    "            result[position] = letter\n",
    "            \n",
    "#13. The playes lose a try if they guessed wrong letter\n",
    "    if user_guessing not in guessing_word:\n",
    "        print(f'You guessed {user_guessing}, this letter is not in the word, you lose a try')\n",
    "\n",
    "#14. If the players lose all their tries end game and print the end game message\n",
    "    tries -= 1\n",
    "    if tries == 0:\n",
    "        game_over = True\n",
    "        print(\"Game over, you lose the game, try again later\")\n",
    "\n",
    "#15. Join all the letters which in the list of guessed letter and turn it into string\n",
    "    print(f\"{' '.join(result)}\")\n",
    "    \n",
    "#16. Check if the player guesses all the right letter so end game and print the win message\n",
    "    if _ not in result:\n",
    "        game_over = True\n",
    "        print('You are a winner, congratulations')\n",
    "        \n",
    "#17. You to print the corret shape after every players try\n",
    "    from hangman_life import lives\n",
    "    print(lives[tries])"
   ]
  },
  {
   "cell_type": "code",
   "execution_count": null,
   "id": "b7b01759",
   "metadata": {},
   "outputs": [],
   "source": []
  }
 ],
 "metadata": {
  "kernelspec": {
   "display_name": "Python 3",
   "language": "python",
   "name": "python3"
  },
  "language_info": {
   "codemirror_mode": {
    "name": "ipython",
    "version": 3
   },
   "file_extension": ".py",
   "mimetype": "text/x-python",
   "name": "python",
   "nbconvert_exporter": "python",
   "pygments_lexer": "ipython3",
   "version": "3.8.8"
  }
 },
 "nbformat": 4,
 "nbformat_minor": 5
}
