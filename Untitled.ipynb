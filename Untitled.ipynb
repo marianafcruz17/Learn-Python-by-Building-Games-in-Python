{
 "cells": [
  {
   "cell_type": "code",
   "execution_count": null,
   "id": "aba9aa40",
   "metadata": {},
   "outputs": [],
   "source": [
    "type(105)"
   ]
  },
  {
   "cell_type": "code",
   "execution_count": null,
   "id": "b0333351",
   "metadata": {},
   "outputs": [],
   "source": [
    "type(105.5)"
   ]
  },
  {
   "cell_type": "code",
   "execution_count": null,
   "id": "fe013e02",
   "metadata": {},
   "outputs": [],
   "source": [
    "print(-2)"
   ]
  },
  {
   "cell_type": "code",
   "execution_count": null,
   "id": "fbc1ed9a",
   "metadata": {},
   "outputs": [],
   "source": [
    "my_int = -2"
   ]
  },
  {
   "cell_type": "code",
   "execution_count": null,
   "id": "5bee5b36",
   "metadata": {},
   "outputs": [],
   "source": [
    "print(my_oint)"
   ]
  }
 ],
 "metadata": {
  "kernelspec": {
   "display_name": "Python 3",
   "language": "python",
   "name": "python3"
  },
  "language_info": {
   "codemirror_mode": {
    "name": "ipython",
    "version": 3
   },
   "file_extension": ".py",
   "mimetype": "text/x-python",
   "name": "python",
   "nbconvert_exporter": "python",
   "pygments_lexer": "ipython3",
   "version": "3.8.8"
  }
 },
 "nbformat": 4,
 "nbformat_minor": 5
}
