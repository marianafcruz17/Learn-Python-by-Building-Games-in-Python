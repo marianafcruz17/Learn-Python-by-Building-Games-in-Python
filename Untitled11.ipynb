{
 "cells": [
  {
   "cell_type": "code",
   "execution_count": 2,
   "id": "c759d786",
   "metadata": {},
   "outputs": [],
   "source": [
    "class MyClass:\n",
    "    def method(self):\n",
    "        return 'instance is here', self\n",
    "    @classmethod\n",
    "    def classmethod(cls):\n",
    "        return 'classmethod is here', cls\n",
    "    @staticmethod\n",
    "    def staticmethod():\n",
    "        return 'staticmethod is here'"
   ]
  },
  {
   "cell_type": "code",
   "execution_count": 3,
   "id": "dae70301",
   "metadata": {},
   "outputs": [],
   "source": [
    "object = MyClass()"
   ]
  },
  {
   "cell_type": "code",
   "execution_count": 4,
   "id": "d72647ec",
   "metadata": {},
   "outputs": [
    {
     "data": {
      "text/plain": [
       "('instance is here', <__main__.MyClass at 0x2390f549160>)"
      ]
     },
     "execution_count": 4,
     "metadata": {},
     "output_type": "execute_result"
    }
   ],
   "source": [
    "object.method()"
   ]
  },
  {
   "cell_type": "code",
   "execution_count": 5,
   "id": "168b48af",
   "metadata": {},
   "outputs": [
    {
     "data": {
      "text/plain": [
       "('classmethod is here', __main__.MyClass)"
      ]
     },
     "execution_count": 5,
     "metadata": {},
     "output_type": "execute_result"
    }
   ],
   "source": [
    "object.classmethod()"
   ]
  },
  {
   "cell_type": "code",
   "execution_count": 6,
   "id": "a93c9eab",
   "metadata": {},
   "outputs": [
    {
     "data": {
      "text/plain": [
       "'staticmethod is here'"
      ]
     },
     "execution_count": 6,
     "metadata": {},
     "output_type": "execute_result"
    }
   ],
   "source": [
    "object.staticmethod()"
   ]
  },
  {
   "cell_type": "code",
   "execution_count": 7,
   "id": "29a3fba6",
   "metadata": {},
   "outputs": [
    {
     "data": {
      "text/plain": [
       "('classmethod is here', __main__.MyClass)"
      ]
     },
     "execution_count": 7,
     "metadata": {},
     "output_type": "execute_result"
    }
   ],
   "source": [
    "MyClass.classmethod()"
   ]
  },
  {
   "cell_type": "code",
   "execution_count": 10,
   "id": "002bb568",
   "metadata": {},
   "outputs": [
    {
     "data": {
      "text/plain": [
       "'staticmethod is here'"
      ]
     },
     "execution_count": 10,
     "metadata": {},
     "output_type": "execute_result"
    }
   ],
   "source": [
    "MyClass.staticmethod()"
   ]
  },
  {
   "cell_type": "code",
   "execution_count": 13,
   "id": "f76e38c1",
   "metadata": {},
   "outputs": [
    {
     "data": {
      "text/plain": [
       "__main__.MyClass"
      ]
     },
     "execution_count": 13,
     "metadata": {},
     "output_type": "execute_result"
    }
   ],
   "source": [
    "MyClass"
   ]
  },
  {
   "cell_type": "code",
   "execution_count": 15,
   "id": "8893e903",
   "metadata": {},
   "outputs": [],
   "source": [
    "class Fruit:\n",
    "    def __init__(self,fruits):\n",
    "        self.fruits = fruits\n",
    "    def __repr__(self):\n",
    "        return f'Fruit({self.fruits})'\n",
    "    @classmethod\n",
    "    def citrus(cls):\n",
    "        return cls(['lemon','orange','tangerine'])\n",
    "    @classmethod\n",
    "    def grapes(cls):\n",
    "        return cls(['green grapes','red grapes'])\n",
    "    @staticmethod\n",
    "    def season():\n",
    "        return 'Citrus fruits in winter, grapes fruits in summer'"
   ]
  },
  {
   "cell_type": "code",
   "execution_count": 16,
   "id": "6b3154c3",
   "metadata": {},
   "outputs": [
    {
     "data": {
      "text/plain": [
       "Fruit(['lemon', 'orange', 'tangerine'])"
      ]
     },
     "execution_count": 16,
     "metadata": {},
     "output_type": "execute_result"
    }
   ],
   "source": [
    "Fruit.citrus()"
   ]
  },
  {
   "cell_type": "code",
   "execution_count": 17,
   "id": "d2a00262",
   "metadata": {},
   "outputs": [
    {
     "data": {
      "text/plain": [
       "Fruit(['green grapes', 'red grapes'])"
      ]
     },
     "execution_count": 17,
     "metadata": {},
     "output_type": "execute_result"
    }
   ],
   "source": [
    "Fruit.grapes()"
   ]
  },
  {
   "cell_type": "code",
   "execution_count": 18,
   "id": "41a90fbe",
   "metadata": {},
   "outputs": [
    {
     "data": {
      "text/plain": [
       "'Citrus fruits in winter, grapes fruits in summer'"
      ]
     },
     "execution_count": 18,
     "metadata": {},
     "output_type": "execute_result"
    }
   ],
   "source": [
    "Fruit.season()"
   ]
  }
 ],
 "metadata": {
  "kernelspec": {
   "display_name": "Python 3",
   "language": "python",
   "name": "python3"
  },
  "language_info": {
   "codemirror_mode": {
    "name": "ipython",
    "version": 3
   },
   "file_extension": ".py",
   "mimetype": "text/x-python",
   "name": "python",
   "nbconvert_exporter": "python",
   "pygments_lexer": "ipython3",
   "version": "3.8.8"
  }
 },
 "nbformat": 4,
 "nbformat_minor": 5
}
