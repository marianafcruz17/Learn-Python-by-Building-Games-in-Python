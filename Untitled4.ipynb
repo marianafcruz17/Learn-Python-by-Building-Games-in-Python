{
 "cells": [
  {
   "cell_type": "code",
   "execution_count": 1,
   "id": "70c3f95c",
   "metadata": {},
   "outputs": [
    {
     "name": "stdout",
     "output_type": "stream",
     "text": [
      "0 a\n",
      "1 b\n",
      "2 c\n",
      "3 d\n",
      "4 e\n"
     ]
    }
   ],
   "source": [
    "letters = ['a','b','c','d','e']\n",
    "\n",
    "for i, letter in enumerate(letters):\n",
    "\tprint(i,letter)"
   ]
  },
  {
   "cell_type": "code",
   "execution_count": 2,
   "id": "214fd6b7",
   "metadata": {},
   "outputs": [
    {
     "name": "stdout",
     "output_type": "stream",
     "text": [
      "[('red', 1), ('green', 2), ('blue', 3)]\n"
     ]
    }
   ],
   "source": [
    "print(list(zip(['red','green','blue'],[1,2,3])))"
   ]
  },
  {
   "cell_type": "code",
   "execution_count": 3,
   "id": "97fb534f",
   "metadata": {},
   "outputs": [
    {
     "name": "stdout",
     "output_type": "stream",
     "text": [
      "red: 1\n",
      "yellow: 2\n",
      "green: 3\n"
     ]
    }
   ],
   "source": [
    "colors = ['red','yellow','green']\n",
    "nums = [1,2,3]\n",
    "\n",
    "for color, num in zip(colors, nums):\n",
    "    print(\"{}: {}\".format(color,num))"
   ]
  },
  {
   "cell_type": "code",
   "execution_count": 4,
   "id": "544a0b80",
   "metadata": {},
   "outputs": [
    {
     "name": "stdout",
     "output_type": "stream",
     "text": [
      "Variable word is not defined\n"
     ]
    }
   ],
   "source": [
    "try:\n",
    "    print(word)\n",
    "except NameError:\n",
    "    print(\"Variable word is not defined\")"
   ]
  },
  {
   "cell_type": "code",
   "execution_count": 5,
   "id": "46a5c92c",
   "metadata": {},
   "outputs": [],
   "source": [
    "x = lambda a,b,c: a-b-c"
   ]
  },
  {
   "cell_type": "code",
   "execution_count": 6,
   "id": "9e04415b",
   "metadata": {},
   "outputs": [
    {
     "name": "stdout",
     "output_type": "stream",
     "text": [
      "<function <lambda> at 0x0000022CB6762670> (5, 2, 2)\n"
     ]
    }
   ],
   "source": [
    "print(x,(5,2,2))"
   ]
  },
  {
   "cell_type": "code",
   "execution_count": 7,
   "id": "8346fe87",
   "metadata": {},
   "outputs": [
    {
     "name": "stdout",
     "output_type": "stream",
     "text": [
      "<function <lambda> at 0x0000022CB6762A60> 5\n"
     ]
    }
   ],
   "source": [
    "z = lambda a: a+2\n",
    "print(z,(5))"
   ]
  },
  {
   "cell_type": "code",
   "execution_count": null,
   "id": "6c0aab5a",
   "metadata": {},
   "outputs": [],
   "source": []
  }
 ],
 "metadata": {
  "kernelspec": {
   "display_name": "Python 3",
   "language": "python",
   "name": "python3"
  },
  "language_info": {
   "codemirror_mode": {
    "name": "ipython",
    "version": 3
   },
   "file_extension": ".py",
   "mimetype": "text/x-python",
   "name": "python",
   "nbconvert_exporter": "python",
   "pygments_lexer": "ipython3",
   "version": "3.8.8"
  }
 },
 "nbformat": 4,
 "nbformat_minor": 5
}
