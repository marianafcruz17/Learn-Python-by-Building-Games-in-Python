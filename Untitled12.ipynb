{
 "cells": [
  {
   "cell_type": "code",
   "execution_count": 1,
   "id": "78eee491",
   "metadata": {},
   "outputs": [
    {
     "name": "stdout",
     "output_type": "stream",
     "text": [
      "Lemon\n",
      "yellow\n",
      "Lemon has yellow color\n"
     ]
    }
   ],
   "source": [
    "class Fruit:\n",
    "    def __init__(self,name,color):\n",
    "        self.name = name\n",
    "        self.color = color\n",
    "        self.fruit_type = self.name + ' has ' + self.color + ' color'\n",
    "        \n",
    "citrus = Fruit(\"Lemon\",\"yellow\")\n",
    "\n",
    "print(citrus.name)\n",
    "print(citrus.color)\n",
    "print(citrus.fruit_type)"
   ]
  },
  {
   "cell_type": "code",
   "execution_count": 4,
   "id": "7ffaf6a8",
   "metadata": {},
   "outputs": [
    {
     "name": "stdout",
     "output_type": "stream",
     "text": [
      "Lemon\n",
      "yellow\n",
      "Lemon has yellow color\n",
      "orange\n",
      "yellow\n"
     ]
    }
   ],
   "source": [
    "class Fruit:\n",
    "    def __init__(self,name,color):\n",
    "        self.name = name\n",
    "        self.color = color\n",
    "        #self.fruit_type = self.name + ' has ' + self.color + ' color'\n",
    "    def fruit_type(self):\n",
    "        return self.name + ' has ' + self.color + ' color'\n",
    "        \n",
    "citrus = Fruit(\"Lemon\",\"yellow\")\n",
    "\n",
    "print(citrus.name)\n",
    "print(citrus.color)\n",
    "print(citrus.fruit_type())\n",
    "\n",
    "citrus.name = \"orange\"\n",
    "print(citrus.name)\n",
    "print(citrus.color)"
   ]
  },
  {
   "cell_type": "code",
   "execution_count": 5,
   "id": "e033af84",
   "metadata": {},
   "outputs": [],
   "source": [
    "@property\n",
    "def fruit_type(self):\n",
    "    return self.name + ' has ' + self.color + ' color'"
   ]
  },
  {
   "cell_type": "code",
   "execution_count": 7,
   "id": "39127c69",
   "metadata": {},
   "outputs": [
    {
     "name": "stdout",
     "output_type": "stream",
     "text": [
      "Lemon\n",
      "yellow\n",
      "Lemon has yellow color\n",
      "orange\n",
      "yellow\n"
     ]
    }
   ],
   "source": [
    "class Fruit:\n",
    "    def __init__(self,name,color):\n",
    "        self.name = name\n",
    "        self.color = color\n",
    "    \n",
    "    @property\n",
    "    def fruit_type(self):\n",
    "        return self.name + ' has ' + self.color + ' color'\n",
    "        \n",
    "citrus = Fruit(\"Lemon\",\"yellow\")\n",
    "\n",
    "print(citrus.name)\n",
    "print(citrus.color)\n",
    "print(citrus.fruit_type)\n",
    "\n",
    "citrus.name = \"orange\"\n",
    "print(citrus.name)\n",
    "print(citrus.color)"
   ]
  }
 ],
 "metadata": {
  "kernelspec": {
   "display_name": "Python 3",
   "language": "python",
   "name": "python3"
  },
  "language_info": {
   "codemirror_mode": {
    "name": "ipython",
    "version": 3
   },
   "file_extension": ".py",
   "mimetype": "text/x-python",
   "name": "python",
   "nbconvert_exporter": "python",
   "pygments_lexer": "ipython3",
   "version": "3.8.8"
  }
 },
 "nbformat": 4,
 "nbformat_minor": 5
}
