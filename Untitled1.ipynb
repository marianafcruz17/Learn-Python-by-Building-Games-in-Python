{
 "cells": [
  {
   "cell_type": "code",
   "execution_count": 1,
   "id": "bfbee0bb",
   "metadata": {},
   "outputs": [
    {
     "data": {
      "text/plain": [
       "int"
      ]
     },
     "execution_count": 1,
     "metadata": {},
     "output_type": "execute_result"
    }
   ],
   "source": [
    "type(150)"
   ]
  },
  {
   "cell_type": "code",
   "execution_count": 2,
   "id": "cca6f5e6",
   "metadata": {},
   "outputs": [
    {
     "data": {
      "text/plain": [
       "float"
      ]
     },
     "execution_count": 2,
     "metadata": {},
     "output_type": "execute_result"
    }
   ],
   "source": [
    "type(150.5)"
   ]
  },
  {
   "cell_type": "code",
   "execution_count": 3,
   "id": "46d09023",
   "metadata": {},
   "outputs": [
    {
     "data": {
      "text/plain": [
       "int"
      ]
     },
     "execution_count": 3,
     "metadata": {},
     "output_type": "execute_result"
    }
   ],
   "source": [
    "type(-2)"
   ]
  },
  {
   "cell_type": "code",
   "execution_count": 8,
   "id": "00e0e806",
   "metadata": {},
   "outputs": [],
   "source": [
    "int_math = 10-(-2)"
   ]
  },
  {
   "cell_type": "code",
   "execution_count": 9,
   "id": "71c8e88e",
   "metadata": {},
   "outputs": [
    {
     "name": "stdout",
     "output_type": "stream",
     "text": [
      "12\n"
     ]
    }
   ],
   "source": [
    "print(int_math)"
   ]
  },
  {
   "cell_type": "code",
   "execution_count": 10,
   "id": "deee1f06",
   "metadata": {},
   "outputs": [
    {
     "data": {
      "text/plain": [
       "True"
      ]
     },
     "execution_count": 10,
     "metadata": {},
     "output_type": "execute_result"
    }
   ],
   "source": [
    "200 > 150"
   ]
  },
  {
   "cell_type": "code",
   "execution_count": null,
   "id": "fcc6c463",
   "metadata": {},
   "outputs": [],
   "source": []
  }
 ],
 "metadata": {
  "kernelspec": {
   "display_name": "Python 3",
   "language": "python",
   "name": "python3"
  },
  "language_info": {
   "codemirror_mode": {
    "name": "ipython",
    "version": 3
   },
   "file_extension": ".py",
   "mimetype": "text/x-python",
   "name": "python",
   "nbconvert_exporter": "python",
   "pygments_lexer": "ipython3",
   "version": "3.8.8"
  }
 },
 "nbformat": 4,
 "nbformat_minor": 5
}
