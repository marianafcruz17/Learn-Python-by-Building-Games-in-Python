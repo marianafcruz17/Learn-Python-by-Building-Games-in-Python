{
 "cells": [
  {
   "cell_type": "code",
   "execution_count": 1,
   "id": "5cbf531f",
   "metadata": {},
   "outputs": [],
   "source": [
    "class UserData():\n",
    "    age = 0\n",
    "    name = None\n",
    "    def __init__(self,name,age):\n",
    "        self.name = name\n",
    "        self.age = age\n",
    "\n",
    "user_2 = ('David',50)"
   ]
  },
  {
   "cell_type": "code",
   "execution_count": 3,
   "id": "38d7ca38",
   "metadata": {},
   "outputs": [],
   "source": [
    "class PhoneNum(UserData):\n",
    "    def __init__(self,name,age,num):\n",
    "        super().__init__(name,age)\n",
    "        self.num = num"
   ]
  },
  {
   "cell_type": "code",
   "execution_count": 4,
   "id": "338cb0dc",
   "metadata": {},
   "outputs": [],
   "source": [
    "user_1 = PhoneNum('Sara',40,123456789)"
   ]
  },
  {
   "cell_type": "code",
   "execution_count": 8,
   "id": "5492e0ea",
   "metadata": {},
   "outputs": [],
   "source": [
    "user_2 = PhoneNum('David',60,987654321)"
   ]
  },
  {
   "cell_type": "code",
   "execution_count": 9,
   "id": "8874d095",
   "metadata": {},
   "outputs": [
    {
     "data": {
      "text/plain": [
       "60"
      ]
     },
     "execution_count": 9,
     "metadata": {},
     "output_type": "execute_result"
    }
   ],
   "source": [
    "user_2.age"
   ]
  },
  {
   "cell_type": "code",
   "execution_count": 10,
   "id": "3b0209c2",
   "metadata": {},
   "outputs": [],
   "source": [
    "user_1 = PhoneNum('John',15,951234687)"
   ]
  },
  {
   "cell_type": "code",
   "execution_count": 11,
   "id": "e6c023ed",
   "metadata": {},
   "outputs": [
    {
     "data": {
      "text/plain": [
       "'John'"
      ]
     },
     "execution_count": 11,
     "metadata": {},
     "output_type": "execute_result"
    }
   ],
   "source": [
    "user_1.name"
   ]
  },
  {
   "cell_type": "code",
   "execution_count": 12,
   "id": "964cf7c3",
   "metadata": {},
   "outputs": [
    {
     "data": {
      "text/plain": [
       "15"
      ]
     },
     "execution_count": 12,
     "metadata": {},
     "output_type": "execute_result"
    }
   ],
   "source": [
    "user_1.age"
   ]
  },
  {
   "cell_type": "code",
   "execution_count": 13,
   "id": "eb6109f8",
   "metadata": {},
   "outputs": [
    {
     "data": {
      "text/plain": [
       "951234687"
      ]
     },
     "execution_count": 13,
     "metadata": {},
     "output_type": "execute_result"
    }
   ],
   "source": [
    "user_1.num"
   ]
  }
 ],
 "metadata": {
  "kernelspec": {
   "display_name": "Python 3",
   "language": "python",
   "name": "python3"
  },
  "language_info": {
   "codemirror_mode": {
    "name": "ipython",
    "version": 3
   },
   "file_extension": ".py",
   "mimetype": "text/x-python",
   "name": "python",
   "nbconvert_exporter": "python",
   "pygments_lexer": "ipython3",
   "version": "3.8.8"
  }
 },
 "nbformat": 4,
 "nbformat_minor": 5
}
