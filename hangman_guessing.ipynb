{
 "cells": [
  {
   "cell_type": "code",
   "execution_count": null,
   "id": "6f3e142a",
   "metadata": {},
   "outputs": [],
   "source": [
    "guess_list = ['Almond','Banana','Blewits','Brazil','Carrot','Casaba','Cashew','Celery','Cherry','Chives','Chocho','Citron','Citrus','Cob nut','Cooker','Daikon','Damson','Endive','Fennel','Garlic','Girkin','Greens','Kiwano','Lentil','Lichee','Lychee','Marrow','Medlar','Nettle','Orange','Oyster','Papaya','Pawpaw','Peanut','Pepper','Pignut','Pippin','Potato','Quince','Radish','Raisin','Rocket','Russet','Squash','Tomato','Turnip','Wakame','Walnut']"
   ]
  }
 ],
 "metadata": {
  "kernelspec": {
   "display_name": "Python 3",
   "language": "python",
   "name": "python3"
  },
  "language_info": {
   "codemirror_mode": {
    "name": "ipython",
    "version": 3
   },
   "file_extension": ".py",
   "mimetype": "text/x-python",
   "name": "python",
   "nbconvert_exporter": "python",
   "pygments_lexer": "ipython3",
   "version": "3.8.8"
  }
 },
 "nbformat": 4,
 "nbformat_minor": 5
}
