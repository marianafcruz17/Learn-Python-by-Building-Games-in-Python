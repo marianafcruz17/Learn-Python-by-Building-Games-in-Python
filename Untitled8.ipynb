{
 "cells": [
  {
   "cell_type": "code",
   "execution_count": 7,
   "id": "01c3d109",
   "metadata": {},
   "outputs": [],
   "source": [
    "class MyClass():\n",
    "    \n",
    "    def set_age(self,num):\n",
    "        self.age = num\n",
    "    def get_age(self):\n",
    "        return self.age"
   ]
  },
  {
   "cell_type": "code",
   "execution_count": 8,
   "id": "0d1dd3f2",
   "metadata": {},
   "outputs": [],
   "source": [
    "Mariana = MyClass()"
   ]
  },
  {
   "cell_type": "code",
   "execution_count": 9,
   "id": "ec597988",
   "metadata": {},
   "outputs": [],
   "source": [
    "Mariana.set_age(23)"
   ]
  },
  {
   "cell_type": "code",
   "execution_count": 10,
   "id": "da92c754",
   "metadata": {},
   "outputs": [
    {
     "name": "stdout",
     "output_type": "stream",
     "text": [
      "23\n"
     ]
    }
   ],
   "source": [
    "print(Mariana.get_age())"
   ]
  },
  {
   "cell_type": "code",
   "execution_count": 13,
   "id": "77b1e7a2",
   "metadata": {},
   "outputs": [],
   "source": [
    "Mariana.set_age('vinte e três')"
   ]
  },
  {
   "cell_type": "code",
   "execution_count": 14,
   "id": "553b10da",
   "metadata": {},
   "outputs": [
    {
     "data": {
      "text/plain": [
       "'vinte e três'"
      ]
     },
     "execution_count": 14,
     "metadata": {},
     "output_type": "execute_result"
    }
   ],
   "source": [
    "Mariana.get_age()"
   ]
  }
 ],
 "metadata": {
  "kernelspec": {
   "display_name": "Python 3",
   "language": "python",
   "name": "python3"
  },
  "language_info": {
   "codemirror_mode": {
    "name": "ipython",
    "version": 3
   },
   "file_extension": ".py",
   "mimetype": "text/x-python",
   "name": "python",
   "nbconvert_exporter": "python",
   "pygments_lexer": "ipython3",
   "version": "3.8.8"
  }
 },
 "nbformat": 4,
 "nbformat_minor": 5
}
