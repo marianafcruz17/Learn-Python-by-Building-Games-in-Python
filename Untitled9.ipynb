{
 "cells": [
  {
   "cell_type": "code",
   "execution_count": 1,
   "id": "353e7859",
   "metadata": {},
   "outputs": [],
   "source": [
    "class Fruit:\n",
    "    def __init__(self,season,color):\n",
    "        self.season = season\n",
    "        self.color = color\n",
    "        \n",
    "class Fruit_name:\n",
    "    def __init__(self,name):\n",
    "        self.name = name"
   ]
  },
  {
   "cell_type": "code",
   "execution_count": 13,
   "id": "bd0a275e",
   "metadata": {},
   "outputs": [],
   "source": [
    "class Citrus_Fruits(Fruit,Fruit_name):\n",
    "    def __init__(self,season,color,name):\n",
    "        Fruit.__init__(self,season,color)\n",
    "        Fruit_name.__init__(self,name)\n",
    "    def __repr__(self):\n",
    "        return f'Citrus_Fruits({self.season, self.name, self.color})'"
   ]
  },
  {
   "cell_type": "code",
   "execution_count": 14,
   "id": "a6952901",
   "metadata": {},
   "outputs": [],
   "source": [
    "fruit_1 = Citrus_Fruits('Winter','Lemon','yellow')"
   ]
  },
  {
   "cell_type": "code",
   "execution_count": 15,
   "id": "7acc130a",
   "metadata": {},
   "outputs": [
    {
     "data": {
      "text/plain": [
       "__main__.Citrus_Fruits"
      ]
     },
     "execution_count": 15,
     "metadata": {},
     "output_type": "execute_result"
    }
   ],
   "source": [
    "Citrus_Fruits"
   ]
  },
  {
   "cell_type": "code",
   "execution_count": 16,
   "id": "149354e9",
   "metadata": {},
   "outputs": [
    {
     "data": {
      "text/plain": [
       "Citrus_Fruits(('Winter', 'yellow', 'Lemon'))"
      ]
     },
     "execution_count": 16,
     "metadata": {},
     "output_type": "execute_result"
    }
   ],
   "source": [
    "fruit_1"
   ]
  }
 ],
 "metadata": {
  "kernelspec": {
   "display_name": "Python 3",
   "language": "python",
   "name": "python3"
  },
  "language_info": {
   "codemirror_mode": {
    "name": "ipython",
    "version": 3
   },
   "file_extension": ".py",
   "mimetype": "text/x-python",
   "name": "python",
   "nbconvert_exporter": "python",
   "pygments_lexer": "ipython3",
   "version": "3.8.8"
  }
 },
 "nbformat": 4,
 "nbformat_minor": 5
}
