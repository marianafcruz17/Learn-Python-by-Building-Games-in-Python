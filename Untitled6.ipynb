{
 "cells": [
  {
   "cell_type": "code",
   "execution_count": 1,
   "id": "4c097dcd",
   "metadata": {},
   "outputs": [],
   "source": [
    "class DataUser():\n",
    "    def __init__(self,name,age):\n",
    "        self.name = name\n",
    "        self.age = age\n",
    "    \n",
    "    def __str__(self):\n",
    "        return 'User name is: {} and has {} years old.'.format(self.name,self.age)\n",
    "    def __len__(self):\n",
    "        return self.age\n",
    "\n",
    "user_1 = DataUser('Mostafa',16)\n",
    "user_2 = DataUser('Tamer',36)"
   ]
  },
  {
   "cell_type": "code",
   "execution_count": 2,
   "id": "9e64cb97",
   "metadata": {},
   "outputs": [
    {
     "name": "stdout",
     "output_type": "stream",
     "text": [
      "User name is: Mostafa and has 16 years old.\n"
     ]
    }
   ],
   "source": [
    "print(user_1)"
   ]
  },
  {
   "cell_type": "code",
   "execution_count": 3,
   "id": "7bd1b60d",
   "metadata": {},
   "outputs": [
    {
     "data": {
      "text/plain": [
       "16"
      ]
     },
     "execution_count": 3,
     "metadata": {},
     "output_type": "execute_result"
    }
   ],
   "source": [
    "len(user_1)"
   ]
  },
  {
   "cell_type": "code",
   "execution_count": 4,
   "id": "e570c21f",
   "metadata": {},
   "outputs": [
    {
     "name": "stdout",
     "output_type": "stream",
     "text": [
      "User name is: Tamer and has 36 years old.\n"
     ]
    }
   ],
   "source": [
    "print(user_2)"
   ]
  },
  {
   "cell_type": "code",
   "execution_count": 5,
   "id": "af8bdbfb",
   "metadata": {},
   "outputs": [
    {
     "data": {
      "text/plain": [
       "36"
      ]
     },
     "execution_count": 5,
     "metadata": {},
     "output_type": "execute_result"
    }
   ],
   "source": [
    "len(user_2)"
   ]
  },
  {
   "cell_type": "code",
   "execution_count": null,
   "id": "e94d4da9",
   "metadata": {},
   "outputs": [],
   "source": []
  }
 ],
 "metadata": {
  "kernelspec": {
   "display_name": "Python 3",
   "language": "python",
   "name": "python3"
  },
  "language_info": {
   "codemirror_mode": {
    "name": "ipython",
    "version": 3
   },
   "file_extension": ".py",
   "mimetype": "text/x-python",
   "name": "python",
   "nbconvert_exporter": "python",
   "pygments_lexer": "ipython3",
   "version": "3.8.8"
  }
 },
 "nbformat": 4,
 "nbformat_minor": 5
}
